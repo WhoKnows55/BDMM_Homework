{
 "cells": [
  {
   "cell_type": "markdown",
   "metadata": {},
   "source": [
    "# Big Data Modeling and Management Assigment - Homework 1"
   ]
  },
  {
   "cell_type": "markdown",
   "metadata": {},
   "source": [
    "# Submission\n",
    "\n",
    "GROUP NUMBER: **XXXXXX** - please add your group number into the file name\n",
    "\n",
    "GROUP MEMBERS:\n",
    "\n",
    "|STUDENT NAME|STUDENT NUMBER|\n",
    "|---|---|\n",
    "|XXXXXX|XXXXXX|\n",
    "|XXXXXX|XXXXXX|\n",
    "|XXXXXX|XXXXXX|\n",
    "|XXXXXX|XXXXXX|"
   ]
  },
  {
   "cell_type": "markdown",
   "metadata": {},
   "source": [
    "## 🍺 The Beer project  🍺 \n",
    "\n",
    "As it was shown in classes, graph databases are a natural way of navegating related information. For this first project we will be taking a graph database to analyse beer and breweries!   \n",
    "\n",
    "The project datasets are based on [kaggle](https://www.kaggle.com/ehallmar/beers-breweries-and-beer-reviews), released by Evan Hallmark. \n",
    "\n",
    "### Problem description\n",
    "\n",
    "Imagine you are working in the Data Management department of Analytics company.\n",
    "Explore the database via python neo4j connector and/or the graphical tool in the NEO4J webpage. Answer the questions while adjusting the database to meet the needs of your colleagues.\n",
    "Please record and keep track of your database changes, and submit the file with all cells run and with the output shown.\n",
    "\n",
    "### Questions\n",
    "\n",
    "1. Explore the database: get familiar with current schema, elements and other important database parameters. [1 point]\n",
    "2. Adjust the database and mention reasoning behind: e.g. clean errors, remove redundancies, adjust schema as necessary. Visualize the final version of database schema. [4 points]\n",
    "3. Analytics department requires the following information for the biweekly reporting: [5 points]\n",
    "    1. How many reviews has the beer with the most reviews?\n",
    "    2. Which three users wrote the most reviews about beers?\n",
    "    3. Find all beers that are described with following words: 'fruit', 'complex', 'nutty', 'dark'.\n",
    "    4. Which top three breweries produce the largest variety of beer styles?\n",
    "    5. Which country produces the most beer styles?\n",
    "4. Market Analysis department in your company accesses and updates the trends data on the daily basis. Given that, consider how you need to optimize the database and its performance so that the following queries are efficient. Measure performance to communicate your improvements using PROFILE before final query. Answer the following: [4 points]\n",
    "    1. Using ABV score, find five strongest beers, display their ABV score and the corresponding brewery? Keep in mind that the strongest known beer is Snake Venom, and deal with the error entries in the database.\n",
    "    2. Using the answer from question 2, find the top 5 distict beer styles with the highest average score of smell + feel that were reviewed by the third most productive user. Keep in mind that cleaning the database earlier should ensure correct results.\n",
    "5. Answer **two out of four** of the following questions using Graph Algorithms (gds): [NB: make sure to clear the graph before using it again] For the quarterly report, Analytics department the follownig information. [6 points]\n",
    "    1. Which two countries are most similiar when it comes to their top five most produced Beer styles?\n",
    "    2. Which beer is the most popular when considering the number of users who reviewed it? \n",
    "    3. Users are connected together by their reviews of beers, taking into consideration the \"smell\" score they assign as a weight, how many communities are formed from these relationships? How many users are in the three largest communities? \n",
    "    4. Which user is the most influential when it comes to reviews of distinct beers by style?\n",
    " \n",
    "### Groups  \n",
    "\n",
    "Groups should have 4 people maximum. Please mark which group you are here: https://shorturl.at/zE0QP \n",
    "\n",
    "### Submission      \n",
    "\n",
    "The code used to produce the results and to-the-point explations should be uploaded to moodle. They should have a clear reference to the group, either on the file name or on the document itself. Preferably one Jupyter notebook per group.\n",
    "\n",
    "Delivery date: Until the **midnight of March 18, 2025**\n",
    "\n",
    "### Evaluation   \n",
    "\n",
    "This will be 20% of the final grade.   \n",
    "Each solution will be evaluated on 2 components: correctness of results and efficiency of the query (based on database schema).  \n",
    "All code will go through plagiarism automated checks. Groups with the same code will undergo investigation."
   ]
  },
  {
   "cell_type": "markdown",
   "metadata": {},
   "source": [
    "## Loading the Database\n",
    "\n",
    "#### Be sure that you **don't have** the neo4j docker container from the classes running (you can Stop it in the desktop app or with the command \"`docker stop Neo4JLab`\")\n",
    "\n",
    "\n",
    "The default container does not have any data whatsoever, we will have to load a database into our docker image:\n",
    "- Download and unzip the `Neo4JHWData` file provided in Moodle.\n",
    "- Copy the path of the `Neo4JHWData` folder of the unziped file, e.g. `C:/PATH/Neo4JHWData/data`.\n",
    "- Download and unzip the `Neo4JPlugins` file provided in Moodle.\n",
    "- Copy the path of the `Neo4JPlugins` folder of the unziped file, e.g. `C:/PATH/Neo4Jplugins`.\n",
    "- Change the code below accordingly. As you might have noticed, you do not have a user called `nunoa`, please use the appropriate path that you got from the previous step. Be sure that you have a neo4j docker container running: \\\n",
    "\n",
    "`docker run --name Neo4JHW2025 -p 7474:7474 -p 7687:7687 -d -v \"c:\\PATH\\Neo4JPlugins\":/plugins -v \"c:\\PATH\\Neo4JHWData\\data\":/data --env NEO4J_AUTH=neo4j/test --env NEO4J_dbms_connector_https_advertised__address=\"localhost:7473\" --env NEO4J_dbms_connector_http_advertised__address=\"localhost:7474\" --env NEO4J_dbms_connector_bolt_advertised__address=\"localhost:7687\" --env NEO4J_dbms_security_procedures_unrestricted=gds.* --env NEO4J_dbms_security_procedures_allowlist=\"gds.*\" neo4j:4.4.5`\n",
    "\n",
    "- Since Neo4j is trying to recognize a new database folder, this might take a bit (let's say 3 minutes), so don't worry.\n",
    "\n",
    "If the neo4j browser fails to load gds plugins, run the following in the Command Prompt before creating the container again:\n",
    "`// Remove stopped containers //\n",
    "docker container prune -f\n",
    "// Remove unused images //\n",
    "docker image prune -a -f\n",
    "// Remove unused volumes //\n",
    "docker volume prune -f\n",
    "// Remove unused networks //\n",
    "docker network prune -f\n",
    "// Remove all unused resources in one command //\n",
    "docker system prune -a -f`"
   ]
  },
  {
   "cell_type": "code",
   "execution_count": 7,
   "metadata": {},
   "outputs": [],
   "source": [
    "#docker run --name Neo4JHW2025 -p 7474:7474 -p 7687:7687 -d -v \"c:\\PATH\\Neo4JPlugins\":/plugins -v \"c:\\PATH\\Neo4JHWData\\data\":/data --env NEO4J_AUTH=neo4j/test --env NEO4J_dbms_connector_https_advertised__address=\"localhost:7473\" --env NEO4J_dbms_connector_http_advertised__address=\"localhost:7474\" --env NEO4J_dbms_connector_bolt_advertised__address=\"localhost:7687\" --env NEO4J_dbms_security_procedures_unrestricted=gds.* --env NEO4J_dbms_security_procedures_allowlist=\"gds.*\" neo4j:4.4.5"
   ]
  },
  {
   "cell_type": "code",
   "execution_count": 8,
   "metadata": {
    "ExecuteTime": {
     "end_time": "2024-02-29T21:45:57.447501Z",
     "start_time": "2024-02-29T21:45:56.625014Z"
    }
   },
   "outputs": [],
   "source": [
    "from neo4j import GraphDatabase\n",
    "from pprint import pprint"
   ]
  },
  {
   "cell_type": "code",
   "execution_count": 9,
   "metadata": {
    "ExecuteTime": {
     "end_time": "2024-02-29T21:46:09.652569Z",
     "start_time": "2024-02-29T21:46:09.648166Z"
    }
   },
   "outputs": [],
   "source": [
    "NEO4J_URI=\"neo4j://localhost:7687\"\n",
    "NEO4J_USERNAME=\"neo4j\"\n",
    "NEO4J_PASSWORD=\"test\""
   ]
  },
  {
   "cell_type": "code",
   "execution_count": 10,
   "metadata": {
    "ExecuteTime": {
     "end_time": "2024-02-29T21:46:10.939324Z",
     "start_time": "2024-02-29T21:46:10.934651Z"
    }
   },
   "outputs": [],
   "source": [
    "driver = GraphDatabase.driver(NEO4J_URI, auth=(NEO4J_USERNAME, NEO4J_PASSWORD), )"
   ]
  },
  {
   "cell_type": "code",
   "execution_count": 11,
   "metadata": {
    "ExecuteTime": {
     "end_time": "2024-02-29T21:46:14.291655Z",
     "start_time": "2024-02-29T21:46:14.286865Z"
    }
   },
   "outputs": [],
   "source": [
    "def execute_read(driver, query):    \n",
    "    with driver.session(database=\"neo4j\") as session:\n",
    "        result = session.execute_read(lambda tx, query: list(tx.run(query)), query)\n",
    "    return result"
   ]
  },
  {
   "cell_type": "markdown",
   "metadata": {},
   "source": [
    "## 1 Overview of the data\n"
   ]
  },
  {
   "cell_type": "code",
   "execution_count": 28,
   "metadata": {},
   "outputs": [
    {
     "name": "stdout",
     "output_type": "stream",
     "text": [
      "[<Record nodes=[<Node element_id='-19' labels=frozenset({'REVIEWS'}) properties={'name': 'REVIEWS', 'indexes': ['id'], 'constraints': []}>, <Node element_id='-18' labels=frozenset({'BEERS'}) properties={'name': 'BEERS', 'indexes': ['id'], 'constraints': []}>, <Node element_id='-15' labels=frozenset({'COUNTRIES'}) properties={'name': 'COUNTRIES', 'indexes': ['name'], 'constraints': []}>, <Node element_id='-17' labels=frozenset({'BREWERIES'}) properties={'name': 'BREWERIES', 'indexes': ['id'], 'constraints': []}>, <Node element_id='-20' labels=frozenset({'STYLE'}) properties={'name': 'STYLE', 'indexes': ['name'], 'constraints': []}>, <Node element_id='-16' labels=frozenset({'CITIES'}) properties={'name': 'CITIES', 'indexes': ['name'], 'constraints': []}>, <Node element_id='-21' labels=frozenset({'USER'}) properties={'name': 'USER', 'indexes': ['name'], 'constraints': []}>] relationships=[<Relationship element_id='-17' nodes=(<Node element_id='-18' labels=frozenset({'BEERS'}) properties={'name': 'BEERS', 'indexes': ['id'], 'constraints': []}>, <Node element_id='-19' labels=frozenset({'REVIEWS'}) properties={'name': 'REVIEWS', 'indexes': ['id'], 'constraints': []}>) type='REVIEWED' properties={}>, <Relationship element_id='-18' nodes=(<Node element_id='-17' labels=frozenset({'BREWERIES'}) properties={'name': 'BREWERIES', 'indexes': ['id'], 'constraints': []}>, <Node element_id='-18' labels=frozenset({'BEERS'}) properties={'name': 'BEERS', 'indexes': ['id'], 'constraints': []}>) type='BREWED' properties={}>, <Relationship element_id='-19' nodes=(<Node element_id='-16' labels=frozenset({'CITIES'}) properties={'name': 'CITIES', 'indexes': ['name'], 'constraints': []}>, <Node element_id='-15' labels=frozenset({'COUNTRIES'}) properties={'name': 'COUNTRIES', 'indexes': ['name'], 'constraints': []}>) type='IN' properties={}>, <Relationship element_id='-21' nodes=(<Node element_id='-17' labels=frozenset({'BREWERIES'}) properties={'name': 'BREWERIES', 'indexes': ['id'], 'constraints': []}>, <Node element_id='-15' labels=frozenset({'COUNTRIES'}) properties={'name': 'COUNTRIES', 'indexes': ['name'], 'constraints': []}>) type='IN' properties={}>, <Relationship element_id='-22' nodes=(<Node element_id='-17' labels=frozenset({'BREWERIES'}) properties={'name': 'BREWERIES', 'indexes': ['id'], 'constraints': []}>, <Node element_id='-16' labels=frozenset({'CITIES'}) properties={'name': 'CITIES', 'indexes': ['name'], 'constraints': []}>) type='IN' properties={}>, <Relationship element_id='-20' nodes=(<Node element_id='-16' labels=frozenset({'CITIES'}) properties={'name': 'CITIES', 'indexes': ['name'], 'constraints': []}>, <Node element_id='-16' labels=frozenset({'CITIES'}) properties={'name': 'CITIES', 'indexes': ['name'], 'constraints': []}>) type='IN' properties={}>, <Relationship element_id='-23' nodes=(<Node element_id='-18' labels=frozenset({'BEERS'}) properties={'name': 'BEERS', 'indexes': ['id'], 'constraints': []}>, <Node element_id='-20' labels=frozenset({'STYLE'}) properties={'name': 'STYLE', 'indexes': ['name'], 'constraints': []}>) type='HAS_STYLE' properties={}>, <Relationship element_id='-24' nodes=(<Node element_id='-19' labels=frozenset({'REVIEWS'}) properties={'name': 'REVIEWS', 'indexes': ['id'], 'constraints': []}>, <Node element_id='-21' labels=frozenset({'USER'}) properties={'name': 'USER', 'indexes': ['name'], 'constraints': []}>) type='POSTED' properties={}>]>]\n"
     ]
    }
   ],
   "source": [
    "query = \"\"\"\n",
    "        CALL db.schema.visualization();\n",
    "    \"\"\"\n",
    "\n",
    "result = execute_read(driver, query)\n",
    "\n",
    "pprint(result)"
   ]
  },
  {
   "cell_type": "markdown",
   "metadata": {},
   "source": [
    "list all unique labels"
   ]
  },
  {
   "cell_type": "code",
   "execution_count": 29,
   "metadata": {},
   "outputs": [
    {
     "name": "stdout",
     "output_type": "stream",
     "text": [
      "[<Record NodeTypes=['COUNTRIES']>,\n",
      " <Record NodeTypes=['CITIES']>,\n",
      " <Record NodeTypes=['BREWERIES']>,\n",
      " <Record NodeTypes=['BEERS']>,\n",
      " <Record NodeTypes=['REVIEWS']>,\n",
      " <Record NodeTypes=['STYLE']>,\n",
      " <Record NodeTypes=['USER']>]\n"
     ]
    }
   ],
   "source": [
    "query = \"\"\"\n",
    "MATCH (n) \n",
    "RETURN DISTINCT labels(n) AS NodeTypes;\n",
    "\"\"\"\n",
    "\n",
    "result = execute_read(driver, query)\n",
    "pprint(result)  #\n"
   ]
  },
  {
   "cell_type": "markdown",
   "metadata": {},
   "source": [
    "list all relationsships"
   ]
  },
  {
   "cell_type": "code",
   "execution_count": 30,
   "metadata": {},
   "outputs": [
    {
     "name": "stdout",
     "output_type": "stream",
     "text": [
      "[<Record RelationshipTypes='IN'>,\n",
      " <Record RelationshipTypes='BREWED'>,\n",
      " <Record RelationshipTypes='HAS_STYLE'>,\n",
      " <Record RelationshipTypes='REVIEWED'>,\n",
      " <Record RelationshipTypes='POSTED'>]\n"
     ]
    }
   ],
   "source": [
    "query = \"\"\"\n",
    "MATCH ()-[r]-() \n",
    "RETURN DISTINCT type(r) AS RelationshipTypes;\n",
    "\"\"\"\n",
    "\n",
    "result = execute_read(driver, query)\n",
    "pprint(result)  # Print relationship types\n"
   ]
  },
  {
   "cell_type": "code",
   "execution_count": 15,
   "metadata": {},
   "outputs": [
    {
     "name": "stdout",
     "output_type": "stream",
     "text": [
      "[<Record section='GRAPH COUNTS' data={'relationships': [{'count': 5856205}, {'relationshipType': 'REVIEWED', 'count': 2537991}, {'relationshipType': 'REVIEWED', 'startLabel': 'BEERS', 'count': 2537991}, {'relationshipType': 'REVIEWED', 'count': 2537991, 'endLabel': 'REVIEWS'}, {'relationshipType': 'BREWED', 'count': 358873}, {'relationshipType': 'BREWED', 'startLabel': 'BREWERIES', 'count': 358873}, {'relationshipType': 'BREWED', 'count': 358873, 'endLabel': 'BEERS'}, {'relationshipType': 'IN', 'count': 62424}, {'relationshipType': 'IN', 'count': 12077, 'endLabel': 'COUNTRIES'}, {'relationshipType': 'IN', 'startLabel': 'CITIES', 'count': 12077}, {'relationshipType': 'IN', 'count': 50347, 'endLabel': 'CITIES'}, {'relationshipType': 'IN', 'startLabel': 'BREWERIES', 'count': 50347}, {'relationshipType': 'HAS_STYLE', 'count': 358873}, {'relationshipType': 'HAS_STYLE', 'startLabel': 'BEERS', 'count': 358873}, {'relationshipType': 'HAS_STYLE', 'count': 358873, 'endLabel': 'STYLE'}, {'relationshipType': 'POSTED', 'count': 2538044}, {'relationshipType': 'POSTED', 'startLabel': 'REVIEWS', 'count': 2538044}, {'relationshipType': 'POSTED', 'count': 2538044, 'endLabel': 'USER'}], 'nodes': [{'count': 3215489}, {'count': 400, 'label': 'COUNTRIES'}, {'count': 23330, 'label': 'CITIES'}, {'count': 100694, 'label': 'BREWERIES'}, {'count': 417746, 'label': 'BEERS'}, {'count': 2549271, 'label': 'REVIEWS'}, {'count': 113, 'label': 'STYLE'}, {'count': 123935, 'label': 'USER'}], 'indexes': [{'updatesSinceEstimation': 0, 'indexType': 'LOOKUP', 'totalSize': 0, 'properties': [], 'labels': [], 'estimatedUniqueSize': 0}, {'updatesSinceEstimation': 0, 'indexType': 'LOOKUP', 'totalSize': 0, 'relationshipTypes': [], 'properties': [], 'estimatedUniqueSize': 0}, {'updatesSinceEstimation': 0, 'indexType': 'BTREE', 'totalSize': 400, 'properties': ['name'], 'labels': ['COUNTRIES'], 'estimatedUniqueSize': 200}, {'updatesSinceEstimation': 0, 'indexType': 'BTREE', 'totalSize': 23330, 'properties': ['name'], 'labels': ['CITIES'], 'estimatedUniqueSize': 11665}, {'updatesSinceEstimation': 0, 'indexType': 'BTREE', 'totalSize': 100694, 'properties': ['id'], 'labels': ['BREWERIES'], 'estimatedUniqueSize': 50347}, {'updatesSinceEstimation': 0, 'indexType': 'BTREE', 'totalSize': 417746, 'properties': ['id'], 'labels': ['BEERS'], 'estimatedUniqueSize': 358873}, {'updatesSinceEstimation': 96373, 'indexType': 'BTREE', 'totalSize': 2645625, 'properties': ['id'], 'labels': ['REVIEWS'], 'estimatedUniqueSize': 2642259}, {'updatesSinceEstimation': 0, 'indexType': 'BTREE', 'totalSize': 113, 'properties': ['name'], 'labels': ['STYLE'], 'estimatedUniqueSize': 113}, {'updatesSinceEstimation': 0, 'indexType': 'BTREE', 'totalSize': 123935, 'properties': ['name'], 'labels': ['USER'], 'estimatedUniqueSize': 123935}], 'constraints': []}>]\n"
     ]
    }
   ],
   "source": [
    "query = \"\"\"\n",
    "CALL db.stats.retrieve('GRAPH COUNTS');\n",
    "\"\"\"\n",
    "\n",
    "result = execute_read(driver, query)\n",
    "pprint(result)  # Print database stats\n"
   ]
  },
  {
   "cell_type": "code",
   "execution_count": 16,
   "metadata": {},
   "outputs": [
    {
     "name": "stdout",
     "output_type": "stream",
     "text": [
      "[<Record section='GRAPH COUNTS' data={'relationships': [{'count': 5856205}, {'relationshipType': 'REVIEWED', 'count': 2537991}, {'relationshipType': 'REVIEWED', 'startLabel': 'BEERS', 'count': 2537991}, {'relationshipType': 'REVIEWED', 'count': 2537991, 'endLabel': 'REVIEWS'}, {'relationshipType': 'BREWED', 'count': 358873}, {'relationshipType': 'BREWED', 'startLabel': 'BREWERIES', 'count': 358873}, {'relationshipType': 'BREWED', 'count': 358873, 'endLabel': 'BEERS'}, {'relationshipType': 'IN', 'count': 62424}, {'relationshipType': 'IN', 'count': 12077, 'endLabel': 'COUNTRIES'}, {'relationshipType': 'IN', 'startLabel': 'CITIES', 'count': 12077}, {'relationshipType': 'IN', 'count': 50347, 'endLabel': 'CITIES'}, {'relationshipType': 'IN', 'startLabel': 'BREWERIES', 'count': 50347}, {'relationshipType': 'HAS_STYLE', 'count': 358873}, {'relationshipType': 'HAS_STYLE', 'startLabel': 'BEERS', 'count': 358873}, {'relationshipType': 'HAS_STYLE', 'count': 358873, 'endLabel': 'STYLE'}, {'relationshipType': 'POSTED', 'count': 2538044}, {'relationshipType': 'POSTED', 'startLabel': 'REVIEWS', 'count': 2538044}, {'relationshipType': 'POSTED', 'count': 2538044, 'endLabel': 'USER'}], 'nodes': [{'count': 3215489}, {'count': 400, 'label': 'COUNTRIES'}, {'count': 23330, 'label': 'CITIES'}, {'count': 100694, 'label': 'BREWERIES'}, {'count': 417746, 'label': 'BEERS'}, {'count': 2549271, 'label': 'REVIEWS'}, {'count': 113, 'label': 'STYLE'}, {'count': 123935, 'label': 'USER'}], 'indexes': [{'updatesSinceEstimation': 0, 'indexType': 'LOOKUP', 'totalSize': 0, 'properties': [], 'labels': [], 'estimatedUniqueSize': 0}, {'updatesSinceEstimation': 0, 'indexType': 'LOOKUP', 'totalSize': 0, 'relationshipTypes': [], 'properties': [], 'estimatedUniqueSize': 0}, {'updatesSinceEstimation': 0, 'indexType': 'BTREE', 'totalSize': 400, 'properties': ['name'], 'labels': ['COUNTRIES'], 'estimatedUniqueSize': 200}, {'updatesSinceEstimation': 0, 'indexType': 'BTREE', 'totalSize': 23330, 'properties': ['name'], 'labels': ['CITIES'], 'estimatedUniqueSize': 11665}, {'updatesSinceEstimation': 0, 'indexType': 'BTREE', 'totalSize': 100694, 'properties': ['id'], 'labels': ['BREWERIES'], 'estimatedUniqueSize': 50347}, {'updatesSinceEstimation': 0, 'indexType': 'BTREE', 'totalSize': 417746, 'properties': ['id'], 'labels': ['BEERS'], 'estimatedUniqueSize': 358873}, {'updatesSinceEstimation': 96373, 'indexType': 'BTREE', 'totalSize': 2645625, 'properties': ['id'], 'labels': ['REVIEWS'], 'estimatedUniqueSize': 2642259}, {'updatesSinceEstimation': 0, 'indexType': 'BTREE', 'totalSize': 113, 'properties': ['name'], 'labels': ['STYLE'], 'estimatedUniqueSize': 113}, {'updatesSinceEstimation': 0, 'indexType': 'BTREE', 'totalSize': 123935, 'properties': ['name'], 'labels': ['USER'], 'estimatedUniqueSize': 123935}], 'constraints': []}>]\n"
     ]
    }
   ],
   "source": [
    "query = \"\"\"\n",
    "CALL db.stats.retrieve('GRAPH COUNTS');\n",
    "\"\"\"\n",
    "\n",
    "result = execute_read(driver, query)\n",
    "pprint(result)  # Print database stats\n"
   ]
  },
  {
   "cell_type": "markdown",
   "metadata": {},
   "source": [
    "count each node"
   ]
  },
  {
   "cell_type": "code",
   "execution_count": 17,
   "metadata": {},
   "outputs": [
    {
     "name": "stdout",
     "output_type": "stream",
     "text": [
      "[<Record NodeType='REVIEWS' Count=2549252>,\n",
      " <Record NodeType='BEERS' Count=417746>,\n",
      " <Record NodeType='USER' Count=123935>,\n",
      " <Record NodeType='BREWERIES' Count=100694>,\n",
      " <Record NodeType='CITIES' Count=23330>,\n",
      " <Record NodeType='COUNTRIES' Count=400>,\n",
      " <Record NodeType='STYLE' Count=113>]\n"
     ]
    }
   ],
   "source": [
    "query = \"\"\"\n",
    "MATCH (n) \n",
    "RETURN labels(n)[0] AS NodeType, count(n) AS Count\n",
    "ORDER BY Count DESC;\n",
    "\"\"\"\n",
    "\n",
    "result = execute_read(driver, query)\n",
    "pprint(result)  # Print node type counts\n"
   ]
  },
  {
   "cell_type": "markdown",
   "metadata": {},
   "source": [
    "count relationsships"
   ]
  },
  {
   "cell_type": "code",
   "execution_count": 18,
   "metadata": {},
   "outputs": [
    {
     "name": "stdout",
     "output_type": "stream",
     "text": [
      "[<Record RelationshipType='POSTED' Count=2538044>,\n",
      " <Record RelationshipType='REVIEWED' Count=2537991>,\n",
      " <Record RelationshipType='BREWED' Count=358873>,\n",
      " <Record RelationshipType='HAS_STYLE' Count=358873>,\n",
      " <Record RelationshipType='IN' Count=62424>]\n"
     ]
    }
   ],
   "source": [
    "query = \"\"\"\n",
    "MATCH ()-[r]->() \n",
    "RETURN type(r) AS RelationshipType, count(r) AS Count\n",
    "ORDER BY Count DESC;\n",
    "\"\"\"\n",
    "\n",
    "result = execute_read(driver, query)\n",
    "pprint(result)  # Print relationship counts\n"
   ]
  },
  {
   "cell_type": "markdown",
   "metadata": {},
   "source": [
    "### DATA CLEANING\n"
   ]
  },
  {
   "cell_type": "markdown",
   "metadata": {},
   "source": [
    "city in city dosent make sense"
   ]
  },
  {
   "cell_type": "code",
   "execution_count": 19,
   "metadata": {},
   "outputs": [
    {
     "name": "stdout",
     "output_type": "stream",
     "text": [
      "Self-referencing city relationships deleted successfully.\n"
     ]
    }
   ],
   "source": [
    "def execute_write(driver, query):\n",
    "    with driver.session(database=\"neo4j\") as session:\n",
    "        session.execute_write(lambda tx, query: tx.run(query), query)\n",
    "\n",
    "query = \"\"\"\n",
    "MATCH (c:CITIES)-[r:IN]->(c:CITIES)\n",
    "DELETE r;\n",
    "\"\"\"\n",
    "\n",
    "execute_write(driver, query)\n",
    "print(\"Self-referencing city relationships deleted successfully.\")\n"
   ]
  },
  {
   "cell_type": "code",
   "execution_count": 20,
   "metadata": {},
   "outputs": [
    {
     "name": "stdout",
     "output_type": "stream",
     "text": [
      "[]\n"
     ]
    }
   ],
   "source": [
    "query = \"\"\"\n",
    "MATCH (c:CITIES)-[r:IN]->(c:CITIES)\n",
    "RETURN c, r\n",
    "\"\"\"\n",
    "\n",
    "result = execute_read(driver, query)\n",
    "pprint(result)  # Should return an empty list if deletion was successful\n"
   ]
  },
  {
   "cell_type": "code",
   "execution_count": null,
   "metadata": {},
   "outputs": [],
   "source": []
  },
  {
   "cell_type": "markdown",
   "metadata": {},
   "source": [
    "## 3. Queries"
   ]
  },
  {
   "cell_type": "markdown",
   "metadata": {},
   "source": [
    "beer with the most reviews"
   ]
  },
  {
   "cell_type": "code",
   "execution_count": 35,
   "metadata": {},
   "outputs": [
    {
     "name": "stdout",
     "output_type": "stream",
     "text": [
      "[]\n"
     ]
    }
   ],
   "source": [
    "query = \"\"\"\n",
    "MATCH (b:BEERS)<-[:REVIEWED]-(r:REVIEWS)\n",
    "RETURN b.name AS Beer, COUNT(r) AS ReviewCount\n",
    "ORDER BY ReviewCount DESC\n",
    "LIMIT 1;\n",
    "\"\"\"\n",
    "\n",
    "result = execute_read(driver, query)\n",
    "pprint(result)  # Should return the beer with the most reviews\n"
   ]
  },
  {
   "cell_type": "markdown",
   "metadata": {},
   "source": [
    "return the top 3 users with most reviews"
   ]
  },
  {
   "cell_type": "code",
   "execution_count": 36,
   "metadata": {},
   "outputs": [
    {
     "name": "stdout",
     "output_type": "stream",
     "text": [
      "[]\n"
     ]
    }
   ],
   "source": [
    "query = \"\"\"\n",
    "MATCH (u:USER)-[:POSTED]->(r:REVIEWS)\n",
    "RETURN u.name AS User, COUNT(r) AS ReviewCount\n",
    "ORDER BY ReviewCount DESC\n",
    "LIMIT 3;\n",
    "\"\"\"\n",
    "\n",
    "result = execute_read(driver, query)\n",
    "pprint(result)  # Should return the top 3 users with most reviews\n"
   ]
  },
  {
   "cell_type": "markdown",
   "metadata": {},
   "source": [
    "beers with specific descriptions"
   ]
  },
  {
   "cell_type": "code",
   "execution_count": 37,
   "metadata": {},
   "outputs": [
    {
     "name": "stdout",
     "output_type": "stream",
     "text": [
      "[]\n"
     ]
    }
   ],
   "source": [
    "query = \"\"\"\n",
    "MATCH (b:BEERS)<-[:REVIEWED]-(r:REVIEWS)\n",
    "WHERE r.text CONTAINS 'fruit' OR r.text CONTAINS 'complex' \n",
    "   OR r.text CONTAINS 'nutty' OR r.text CONTAINS 'dark'\n",
    "RETURN DISTINCT b.name AS Beer;\n",
    "\"\"\"\n",
    "\n",
    "result = execute_read(driver, query)\n",
    "pprint(result)  # Should return beers with those descriptions\n"
   ]
  },
  {
   "cell_type": "markdown",
   "metadata": {},
   "source": [
    "3 breweries with the most beer styles"
   ]
  },
  {
   "cell_type": "code",
   "execution_count": 33,
   "metadata": {},
   "outputs": [
    {
     "name": "stdout",
     "output_type": "stream",
     "text": [
      "[<Record Brewery='Iron Hill Brewery & Restaurant' StyleCount=94>,\n",
      " <Record Brewery='Rock Bottom Restaurant & Brewery' StyleCount=93>,\n",
      " <Record Brewery='Goose Island Beer Co.' StyleCount=88>]\n"
     ]
    }
   ],
   "source": [
    "query = \"\"\"\n",
    "MATCH (br:BREWERIES)-[:BREWED]->(b:BEERS)-[:HAS_STYLE]->(s:STYLE)\n",
    "RETURN br.name AS Brewery, COUNT(DISTINCT s.name) AS StyleCount\n",
    "ORDER BY StyleCount DESC\n",
    "LIMIT 3;\n",
    "\"\"\"\n",
    "\n",
    "result = execute_read(driver, query)\n",
    "pprint(result)  # Should return top 3 breweries with the most beer styles\n"
   ]
  },
  {
   "cell_type": "markdown",
   "metadata": {},
   "source": [
    "country producing the most beer styles"
   ]
  },
  {
   "cell_type": "code",
   "execution_count": 25,
   "metadata": {},
   "outputs": [
    {
     "name": "stdout",
     "output_type": "stream",
     "text": [
      "[]\n"
     ]
    }
   ],
   "source": [
    "query = \"\"\"\n",
    "MATCH (co:COUNTRIES)<-[:IN]-(br:BREWERIES)-[:BREWED]->(b:BEERS)-[:HAS_STYLE]->(s:STYLE)\n",
    "RETURN co.name AS Country, COUNT(DISTINCT s.name) AS StyleCount\n",
    "ORDER BY StyleCount DESC\n",
    "LIMIT 1;\n",
    "\"\"\"\n",
    "\n",
    "result = execute_read(driver, query)\n",
    "pprint(result)  # Should return the country producing the most beer styles\n"
   ]
  },
  {
   "cell_type": "markdown",
   "metadata": {},
   "source": [
    "country producing the most beer styles"
   ]
  },
  {
   "cell_type": "code",
   "execution_count": 38,
   "metadata": {},
   "outputs": [
    {
     "ename": "ClientError",
     "evalue": "{code: Neo.ClientError.Statement.AccessMode} {message: Writing in read access mode not allowed. Attempted write to internal graph 0 (neo4j)}",
     "output_type": "error",
     "traceback": [
      "\u001b[0;31m---------------------------------------------------------------------------\u001b[0m",
      "\u001b[0;31mClientError\u001b[0m                               Traceback (most recent call last)",
      "Cell \u001b[0;32mIn[38], line 6\u001b[0m\n\u001b[1;32m      1\u001b[0m query \u001b[38;5;241m=\u001b[39m \u001b[38;5;124m\"\"\"\u001b[39m\n\u001b[1;32m      2\u001b[0m \u001b[38;5;124mMATCH (r:REVIEWS), (b:BEERS)\u001b[39m\n\u001b[1;32m      3\u001b[0m \u001b[38;5;124mWHERE r.beer_id = b.id\u001b[39m\n\u001b[1;32m      4\u001b[0m \u001b[38;5;124mMERGE (r)-[:REVIEWED]->(b);\u001b[39m\n\u001b[1;32m      5\u001b[0m \u001b[38;5;124m\"\"\"\u001b[39m\n\u001b[0;32m----> 6\u001b[0m result \u001b[38;5;241m=\u001b[39m \u001b[43mexecute_read\u001b[49m\u001b[43m(\u001b[49m\u001b[43mdriver\u001b[49m\u001b[43m,\u001b[49m\u001b[43m \u001b[49m\u001b[43mquery\u001b[49m\u001b[43m)\u001b[49m\n\u001b[1;32m      7\u001b[0m pprint(result) \u001b[38;5;66;03m# Should return the country producing the most beer styles\u001b[39;00m\n",
      "Cell \u001b[0;32mIn[11], line 3\u001b[0m, in \u001b[0;36mexecute_read\u001b[0;34m(driver, query)\u001b[0m\n\u001b[1;32m      1\u001b[0m \u001b[38;5;28;01mdef\u001b[39;00m \u001b[38;5;21mexecute_read\u001b[39m(driver, query):    \n\u001b[1;32m      2\u001b[0m     \u001b[38;5;28;01mwith\u001b[39;00m driver\u001b[38;5;241m.\u001b[39msession(database\u001b[38;5;241m=\u001b[39m\u001b[38;5;124m\"\u001b[39m\u001b[38;5;124mneo4j\u001b[39m\u001b[38;5;124m\"\u001b[39m) \u001b[38;5;28;01mas\u001b[39;00m session:\n\u001b[0;32m----> 3\u001b[0m         result \u001b[38;5;241m=\u001b[39m \u001b[43msession\u001b[49m\u001b[38;5;241;43m.\u001b[39;49m\u001b[43mexecute_read\u001b[49m\u001b[43m(\u001b[49m\u001b[38;5;28;43;01mlambda\u001b[39;49;00m\u001b[43m \u001b[49m\u001b[43mtx\u001b[49m\u001b[43m,\u001b[49m\u001b[43m \u001b[49m\u001b[43mquery\u001b[49m\u001b[43m:\u001b[49m\u001b[43m \u001b[49m\u001b[38;5;28;43mlist\u001b[39;49m\u001b[43m(\u001b[49m\u001b[43mtx\u001b[49m\u001b[38;5;241;43m.\u001b[39;49m\u001b[43mrun\u001b[49m\u001b[43m(\u001b[49m\u001b[43mquery\u001b[49m\u001b[43m)\u001b[49m\u001b[43m)\u001b[49m\u001b[43m,\u001b[49m\u001b[43m \u001b[49m\u001b[43mquery\u001b[49m\u001b[43m)\u001b[49m\n\u001b[1;32m      4\u001b[0m     \u001b[38;5;28;01mreturn\u001b[39;00m result\n",
      "File \u001b[0;32m/opt/anaconda3/lib/python3.12/site-packages/neo4j/_sync/work/session.py:697\u001b[0m, in \u001b[0;36mSession.execute_read\u001b[0;34m(self, transaction_function, *args, **kwargs)\u001b[0m\n\u001b[1;32m    626\u001b[0m \u001b[38;5;129m@NonConcurrentMethodChecker\u001b[39m\u001b[38;5;241m.\u001b[39m_non_concurrent_method\n\u001b[1;32m    627\u001b[0m \u001b[38;5;28;01mdef\u001b[39;00m \u001b[38;5;21mexecute_read\u001b[39m(\n\u001b[1;32m    628\u001b[0m     \u001b[38;5;28mself\u001b[39m,\n\u001b[0;32m   (...)\u001b[0m\n\u001b[1;32m    633\u001b[0m     \u001b[38;5;241m*\u001b[39m\u001b[38;5;241m*\u001b[39mkwargs: _P\u001b[38;5;241m.\u001b[39mkwargs,\n\u001b[1;32m    634\u001b[0m ) \u001b[38;5;241m-\u001b[39m\u001b[38;5;241m>\u001b[39m _R:\n\u001b[1;32m    635\u001b[0m \u001b[38;5;250m    \u001b[39m\u001b[38;5;124;03m\"\"\"\u001b[39;00m\n\u001b[1;32m    636\u001b[0m \u001b[38;5;124;03m    Execute a unit of work in a managed read transaction.\u001b[39;00m\n\u001b[1;32m    637\u001b[0m \n\u001b[0;32m   (...)\u001b[0m\n\u001b[1;32m    695\u001b[0m \u001b[38;5;124;03m    .. versionadded:: 5.0\u001b[39;00m\n\u001b[1;32m    696\u001b[0m \u001b[38;5;124;03m    \"\"\"\u001b[39;00m  \u001b[38;5;66;03m# noqa: E501 example code isn't too long\u001b[39;00m\n\u001b[0;32m--> 697\u001b[0m     \u001b[38;5;28;01mreturn\u001b[39;00m \u001b[38;5;28;43mself\u001b[39;49m\u001b[38;5;241;43m.\u001b[39;49m\u001b[43m_run_transaction\u001b[49m\u001b[43m(\u001b[49m\n\u001b[1;32m    698\u001b[0m \u001b[43m        \u001b[49m\u001b[43mREAD_ACCESS\u001b[49m\u001b[43m,\u001b[49m\n\u001b[1;32m    699\u001b[0m \u001b[43m        \u001b[49m\u001b[43mTelemetryAPI\u001b[49m\u001b[38;5;241;43m.\u001b[39;49m\u001b[43mTX_FUNC\u001b[49m\u001b[43m,\u001b[49m\n\u001b[1;32m    700\u001b[0m \u001b[43m        \u001b[49m\u001b[43mtransaction_function\u001b[49m\u001b[43m,\u001b[49m\n\u001b[1;32m    701\u001b[0m \u001b[43m        \u001b[49m\u001b[43margs\u001b[49m\u001b[43m,\u001b[49m\n\u001b[1;32m    702\u001b[0m \u001b[43m        \u001b[49m\u001b[43mkwargs\u001b[49m\u001b[43m,\u001b[49m\n\u001b[1;32m    703\u001b[0m \u001b[43m    \u001b[49m\u001b[43m)\u001b[49m\n",
      "File \u001b[0;32m/opt/anaconda3/lib/python3.12/site-packages/neo4j/_sync/work/session.py:583\u001b[0m, in \u001b[0;36mSession._run_transaction\u001b[0;34m(self, access_mode, api, transaction_function, args, kwargs)\u001b[0m\n\u001b[1;32m    581\u001b[0m tx \u001b[38;5;241m=\u001b[39m \u001b[38;5;28mself\u001b[39m\u001b[38;5;241m.\u001b[39m_transaction\n\u001b[1;32m    582\u001b[0m \u001b[38;5;28;01mtry\u001b[39;00m:\n\u001b[0;32m--> 583\u001b[0m     result \u001b[38;5;241m=\u001b[39m \u001b[43mtransaction_function\u001b[49m\u001b[43m(\u001b[49m\u001b[43mtx\u001b[49m\u001b[43m,\u001b[49m\u001b[43m \u001b[49m\u001b[38;5;241;43m*\u001b[39;49m\u001b[43margs\u001b[49m\u001b[43m,\u001b[49m\u001b[43m \u001b[49m\u001b[38;5;241;43m*\u001b[39;49m\u001b[38;5;241;43m*\u001b[39;49m\u001b[43mkwargs\u001b[49m\u001b[43m)\u001b[49m\n\u001b[1;32m    584\u001b[0m \u001b[38;5;28;01mexcept\u001b[39;00m asyncio\u001b[38;5;241m.\u001b[39mCancelledError:\n\u001b[1;32m    585\u001b[0m     \u001b[38;5;66;03m# if cancellation callback has not been called yet:\u001b[39;00m\n\u001b[1;32m    586\u001b[0m     \u001b[38;5;28;01mif\u001b[39;00m \u001b[38;5;28mself\u001b[39m\u001b[38;5;241m.\u001b[39m_transaction \u001b[38;5;129;01mis\u001b[39;00m \u001b[38;5;129;01mnot\u001b[39;00m \u001b[38;5;28;01mNone\u001b[39;00m:\n",
      "Cell \u001b[0;32mIn[11], line 3\u001b[0m, in \u001b[0;36mexecute_read.<locals>.<lambda>\u001b[0;34m(tx, query)\u001b[0m\n\u001b[1;32m      1\u001b[0m \u001b[38;5;28;01mdef\u001b[39;00m \u001b[38;5;21mexecute_read\u001b[39m(driver, query):    \n\u001b[1;32m      2\u001b[0m     \u001b[38;5;28;01mwith\u001b[39;00m driver\u001b[38;5;241m.\u001b[39msession(database\u001b[38;5;241m=\u001b[39m\u001b[38;5;124m\"\u001b[39m\u001b[38;5;124mneo4j\u001b[39m\u001b[38;5;124m\"\u001b[39m) \u001b[38;5;28;01mas\u001b[39;00m session:\n\u001b[0;32m----> 3\u001b[0m         result \u001b[38;5;241m=\u001b[39m session\u001b[38;5;241m.\u001b[39mexecute_read(\u001b[38;5;28;01mlambda\u001b[39;00m tx, query: \u001b[38;5;28mlist\u001b[39m(\u001b[43mtx\u001b[49m\u001b[38;5;241;43m.\u001b[39;49m\u001b[43mrun\u001b[49m\u001b[43m(\u001b[49m\u001b[43mquery\u001b[49m\u001b[43m)\u001b[49m), query)\n\u001b[1;32m      4\u001b[0m     \u001b[38;5;28;01mreturn\u001b[39;00m result\n",
      "File \u001b[0;32m/opt/anaconda3/lib/python3.12/site-packages/neo4j/_sync/work/transaction.py:206\u001b[0m, in \u001b[0;36mTransactionBase.run\u001b[0;34m(self, query, parameters, **kwparameters)\u001b[0m\n\u001b[1;32m    203\u001b[0m \u001b[38;5;28mself\u001b[39m\u001b[38;5;241m.\u001b[39m_results\u001b[38;5;241m.\u001b[39mappend(result)\n\u001b[1;32m    205\u001b[0m parameters \u001b[38;5;241m=\u001b[39m \u001b[38;5;28mdict\u001b[39m(parameters \u001b[38;5;129;01mor\u001b[39;00m {}, \u001b[38;5;241m*\u001b[39m\u001b[38;5;241m*\u001b[39mkwparameters)\n\u001b[0;32m--> 206\u001b[0m \u001b[43mresult\u001b[49m\u001b[38;5;241;43m.\u001b[39;49m\u001b[43m_tx_ready_run\u001b[49m\u001b[43m(\u001b[49m\u001b[43mquery\u001b[49m\u001b[43m,\u001b[49m\u001b[43m \u001b[49m\u001b[43mparameters\u001b[49m\u001b[43m)\u001b[49m\n\u001b[1;32m    208\u001b[0m \u001b[38;5;28;01mreturn\u001b[39;00m result\n",
      "File \u001b[0;32m/opt/anaconda3/lib/python3.12/site-packages/neo4j/_sync/work/result.py:177\u001b[0m, in \u001b[0;36mResult._tx_ready_run\u001b[0;34m(self, query, parameters)\u001b[0m\n\u001b[1;32m    173\u001b[0m \u001b[38;5;28;01mdef\u001b[39;00m \u001b[38;5;21m_tx_ready_run\u001b[39m(\u001b[38;5;28mself\u001b[39m, query, parameters):\n\u001b[1;32m    174\u001b[0m     \u001b[38;5;66;03m# BEGIN+RUN does not carry any extra on the RUN message.\u001b[39;00m\n\u001b[1;32m    175\u001b[0m     \u001b[38;5;66;03m# BEGIN {extra}\u001b[39;00m\n\u001b[1;32m    176\u001b[0m     \u001b[38;5;66;03m# RUN \"query\" {parameters} {extra}\u001b[39;00m\n\u001b[0;32m--> 177\u001b[0m     \u001b[38;5;28;43mself\u001b[39;49m\u001b[38;5;241;43m.\u001b[39;49m\u001b[43m_run\u001b[49m\u001b[43m(\u001b[49m\u001b[43mquery\u001b[49m\u001b[43m,\u001b[49m\u001b[43m \u001b[49m\u001b[43mparameters\u001b[49m\u001b[43m,\u001b[49m\u001b[43m \u001b[49m\u001b[38;5;28;43;01mNone\u001b[39;49;00m\u001b[43m,\u001b[49m\u001b[43m \u001b[49m\u001b[38;5;28;43;01mNone\u001b[39;49;00m\u001b[43m,\u001b[49m\u001b[43m \u001b[49m\u001b[38;5;28;43;01mNone\u001b[39;49;00m\u001b[43m,\u001b[49m\u001b[43m \u001b[49m\u001b[38;5;28;43;01mNone\u001b[39;49;00m\u001b[43m,\u001b[49m\u001b[43m \u001b[49m\u001b[38;5;28;43;01mNone\u001b[39;49;00m\u001b[43m,\u001b[49m\u001b[43m \u001b[49m\u001b[38;5;28;43;01mNone\u001b[39;49;00m\u001b[43m)\u001b[49m\n",
      "File \u001b[0;32m/opt/anaconda3/lib/python3.12/site-packages/neo4j/_sync/work/result.py:236\u001b[0m, in \u001b[0;36mResult._run\u001b[0;34m(self, query, parameters, db, imp_user, access_mode, bookmarks, notifications_min_severity, notifications_disabled_classifications)\u001b[0m\n\u001b[1;32m    234\u001b[0m \u001b[38;5;28mself\u001b[39m\u001b[38;5;241m.\u001b[39m_pull()\n\u001b[1;32m    235\u001b[0m \u001b[38;5;28mself\u001b[39m\u001b[38;5;241m.\u001b[39m_connection\u001b[38;5;241m.\u001b[39msend_all()\n\u001b[0;32m--> 236\u001b[0m \u001b[38;5;28;43mself\u001b[39;49m\u001b[38;5;241;43m.\u001b[39;49m\u001b[43m_attach\u001b[49m\u001b[43m(\u001b[49m\u001b[43m)\u001b[49m\n",
      "File \u001b[0;32m/opt/anaconda3/lib/python3.12/site-packages/neo4j/_sync/work/result.py:430\u001b[0m, in \u001b[0;36mResult._attach\u001b[0;34m(self)\u001b[0m\n\u001b[1;32m    428\u001b[0m \u001b[38;5;28;01mif\u001b[39;00m \u001b[38;5;28mself\u001b[39m\u001b[38;5;241m.\u001b[39m_exhausted \u001b[38;5;129;01mis\u001b[39;00m \u001b[38;5;28;01mFalse\u001b[39;00m:\n\u001b[1;32m    429\u001b[0m     \u001b[38;5;28;01mwhile\u001b[39;00m \u001b[38;5;28mself\u001b[39m\u001b[38;5;241m.\u001b[39m_attached \u001b[38;5;129;01mis\u001b[39;00m \u001b[38;5;28;01mFalse\u001b[39;00m:\n\u001b[0;32m--> 430\u001b[0m         \u001b[38;5;28;43mself\u001b[39;49m\u001b[38;5;241;43m.\u001b[39;49m\u001b[43m_connection\u001b[49m\u001b[38;5;241;43m.\u001b[39;49m\u001b[43mfetch_message\u001b[49m\u001b[43m(\u001b[49m\u001b[43m)\u001b[49m\n",
      "File \u001b[0;32m/opt/anaconda3/lib/python3.12/site-packages/neo4j/_sync/io/_common.py:184\u001b[0m, in \u001b[0;36mConnectionErrorHandler.__getattr__.<locals>.outer.<locals>.inner\u001b[0;34m(*args, **kwargs)\u001b[0m\n\u001b[1;32m    182\u001b[0m \u001b[38;5;28;01mdef\u001b[39;00m \u001b[38;5;21minner\u001b[39m(\u001b[38;5;241m*\u001b[39margs, \u001b[38;5;241m*\u001b[39m\u001b[38;5;241m*\u001b[39mkwargs):\n\u001b[1;32m    183\u001b[0m     \u001b[38;5;28;01mtry\u001b[39;00m:\n\u001b[0;32m--> 184\u001b[0m         \u001b[43mfunc\u001b[49m\u001b[43m(\u001b[49m\u001b[38;5;241;43m*\u001b[39;49m\u001b[43margs\u001b[49m\u001b[43m,\u001b[49m\u001b[43m \u001b[49m\u001b[38;5;241;43m*\u001b[39;49m\u001b[38;5;241;43m*\u001b[39;49m\u001b[43mkwargs\u001b[49m\u001b[43m)\u001b[49m\n\u001b[1;32m    185\u001b[0m     \u001b[38;5;28;01mexcept\u001b[39;00m (Neo4jError, ServiceUnavailable, SessionExpired) \u001b[38;5;28;01mas\u001b[39;00m exc:\n\u001b[1;32m    186\u001b[0m         \u001b[38;5;28;01massert\u001b[39;00m \u001b[38;5;129;01mnot\u001b[39;00m asyncio\u001b[38;5;241m.\u001b[39miscoroutinefunction(\u001b[38;5;28mself\u001b[39m\u001b[38;5;241m.\u001b[39m__on_error)\n",
      "File \u001b[0;32m/opt/anaconda3/lib/python3.12/site-packages/neo4j/_sync/io/_bolt.py:864\u001b[0m, in \u001b[0;36mBolt.fetch_message\u001b[0;34m(self)\u001b[0m\n\u001b[1;32m    860\u001b[0m \u001b[38;5;66;03m# Receive exactly one message\u001b[39;00m\n\u001b[1;32m    861\u001b[0m tag, fields \u001b[38;5;241m=\u001b[39m \u001b[38;5;28mself\u001b[39m\u001b[38;5;241m.\u001b[39minbox\u001b[38;5;241m.\u001b[39mpop(\n\u001b[1;32m    862\u001b[0m     hydration_hooks\u001b[38;5;241m=\u001b[39m\u001b[38;5;28mself\u001b[39m\u001b[38;5;241m.\u001b[39mresponses[\u001b[38;5;241m0\u001b[39m]\u001b[38;5;241m.\u001b[39mhydration_hooks\n\u001b[1;32m    863\u001b[0m )\n\u001b[0;32m--> 864\u001b[0m res \u001b[38;5;241m=\u001b[39m \u001b[38;5;28;43mself\u001b[39;49m\u001b[38;5;241;43m.\u001b[39;49m\u001b[43m_process_message\u001b[49m\u001b[43m(\u001b[49m\u001b[43mtag\u001b[49m\u001b[43m,\u001b[49m\u001b[43m \u001b[49m\u001b[43mfields\u001b[49m\u001b[43m)\u001b[49m\n\u001b[1;32m    865\u001b[0m \u001b[38;5;28mself\u001b[39m\u001b[38;5;241m.\u001b[39midle_since \u001b[38;5;241m=\u001b[39m monotonic()\n\u001b[1;32m    866\u001b[0m \u001b[38;5;28;01mreturn\u001b[39;00m res\n",
      "File \u001b[0;32m/opt/anaconda3/lib/python3.12/site-packages/neo4j/_sync/io/_bolt4.py:498\u001b[0m, in \u001b[0;36mBolt4x0._process_message\u001b[0;34m(self, tag, fields)\u001b[0m\n\u001b[1;32m    496\u001b[0m \u001b[38;5;28mself\u001b[39m\u001b[38;5;241m.\u001b[39m_server_state_manager\u001b[38;5;241m.\u001b[39mstate \u001b[38;5;241m=\u001b[39m BoltStates\u001b[38;5;241m.\u001b[39mFAILED\n\u001b[1;32m    497\u001b[0m \u001b[38;5;28;01mtry\u001b[39;00m:\n\u001b[0;32m--> 498\u001b[0m     \u001b[43mresponse\u001b[49m\u001b[38;5;241;43m.\u001b[39;49m\u001b[43mon_failure\u001b[49m\u001b[43m(\u001b[49m\u001b[43msummary_metadata\u001b[49m\u001b[43m \u001b[49m\u001b[38;5;129;43;01mor\u001b[39;49;00m\u001b[43m \u001b[49m\u001b[43m{\u001b[49m\u001b[43m}\u001b[49m\u001b[43m)\u001b[49m\n\u001b[1;32m    499\u001b[0m \u001b[38;5;28;01mexcept\u001b[39;00m (ServiceUnavailable, DatabaseUnavailable):\n\u001b[1;32m    500\u001b[0m     \u001b[38;5;28;01mif\u001b[39;00m \u001b[38;5;28mself\u001b[39m\u001b[38;5;241m.\u001b[39mpool:\n",
      "File \u001b[0;32m/opt/anaconda3/lib/python3.12/site-packages/neo4j/_sync/io/_common.py:254\u001b[0m, in \u001b[0;36mResponse.on_failure\u001b[0;34m(self, metadata)\u001b[0m\n\u001b[1;32m    252\u001b[0m handler \u001b[38;5;241m=\u001b[39m \u001b[38;5;28mself\u001b[39m\u001b[38;5;241m.\u001b[39mhandlers\u001b[38;5;241m.\u001b[39mget(\u001b[38;5;124m\"\u001b[39m\u001b[38;5;124mon_summary\u001b[39m\u001b[38;5;124m\"\u001b[39m)\n\u001b[1;32m    253\u001b[0m Util\u001b[38;5;241m.\u001b[39mcallback(handler)\n\u001b[0;32m--> 254\u001b[0m \u001b[38;5;28;01mraise\u001b[39;00m \u001b[38;5;28mself\u001b[39m\u001b[38;5;241m.\u001b[39m_hydrate_error(metadata)\n",
      "\u001b[0;31mClientError\u001b[0m: {code: Neo.ClientError.Statement.AccessMode} {message: Writing in read access mode not allowed. Attempted write to internal graph 0 (neo4j)}"
     ]
    }
   ],
   "source": [
    "query = \"\"\"\n",
    "MATCH (r:REVIEWS), (b:BEERS)\n",
    "WHERE r.beer_id = b.id\n",
    "MERGE (r)-[:REVIEWED]->(b);\n",
    "\"\"\"\n",
    "result = execute_read(driver, query)\n",
    "pprint(result) # Should return the country producing the most beer styles\n"
   ]
  },
  {
   "cell_type": "code",
   "execution_count": null,
   "metadata": {},
   "outputs": [],
   "source": []
  }
 ],
 "metadata": {
  "hide_input": false,
  "kernelspec": {
   "display_name": "base",
   "language": "python",
   "name": "python3"
  },
  "language_info": {
   "codemirror_mode": {
    "name": "ipython",
    "version": 3
   },
   "file_extension": ".py",
   "mimetype": "text/x-python",
   "name": "python",
   "nbconvert_exporter": "python",
   "pygments_lexer": "ipython3",
   "version": "3.12.7"
  },
  "toc": {
   "base_numbering": 1,
   "nav_menu": {},
   "number_sections": true,
   "sideBar": true,
   "skip_h1_title": false,
   "title_cell": "Table of Contents",
   "title_sidebar": "Contents",
   "toc_cell": false,
   "toc_position": {},
   "toc_section_display": true,
   "toc_window_display": false
  },
  "varInspector": {
   "cols": {
    "lenName": 16,
    "lenType": 16,
    "lenVar": 40
   },
   "kernels_config": {
    "python": {
     "delete_cmd_postfix": "",
     "delete_cmd_prefix": "del ",
     "library": "var_list.py",
     "varRefreshCmd": "print(var_dic_list())"
    },
    "r": {
     "delete_cmd_postfix": ") ",
     "delete_cmd_prefix": "rm(",
     "library": "var_list.r",
     "varRefreshCmd": "cat(var_dic_list()) "
    }
   },
   "types_to_exclude": [
    "module",
    "function",
    "builtin_function_or_method",
    "instance",
    "_Feature"
   ],
   "window_display": false
  }
 },
 "nbformat": 4,
 "nbformat_minor": 4
}
